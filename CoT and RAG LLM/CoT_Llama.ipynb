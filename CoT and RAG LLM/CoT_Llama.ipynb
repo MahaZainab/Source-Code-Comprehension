{
 "cells": [
  {
   "cell_type": "markdown",
   "metadata": {},
   "source": [
    "# Chain of thought"
   ]
  },
  {
   "cell_type": "markdown",
   "metadata": {},
   "source": [
    "## Step 1: Setup and Library Imports"
   ]
  },
  {
   "cell_type": "code",
   "execution_count": 1,
   "metadata": {},
   "outputs": [],
   "source": [
    "import json\n",
    "import numpy as np\n",
    "from sklearn.feature_extraction.text import TfidfVectorizer\n",
    "from sklearn.metrics.pairwise import cosine_similarity\n",
    "from groq import Groq  # Assuming you have access to Groq's client\n",
    "import os\n",
    "\n",
    "def load_json_data(json_path):\n",
    "    with open(json_path, 'r', encoding='utf-8') as file:\n",
    "        return json.load(file)\n",
    "\n",
    "def create_tfidf_vectors(data):\n",
    "    documents = [entry['question'] + \" \" + entry['code'] for entry in data]  # Context includes both code and the question\n",
    "    vectorizer = TfidfVectorizer(stop_words='english')\n",
    "    tfidf_matrix = vectorizer.fit_transform(documents)\n",
    "    return vectorizer, tfidf_matrix\n"
   ]
  },
  {
   "cell_type": "code",
   "execution_count": 10,
   "metadata": {},
   "outputs": [],
   "source": [
    "from dotenv import load_dotenv\n",
    "\n",
    "load_dotenv()\n",
    "client = Groq(\n",
    "    api_key=os.environ.get(\"GROQ_API_KEY\"),\n",
    ")"
   ]
  },
  {
   "cell_type": "markdown",
   "metadata": {},
   "source": [
    "## Step 2: Implementing Document Retrieval"
   ]
  },
  {
   "cell_type": "code",
   "execution_count": 11,
   "metadata": {},
   "outputs": [],
   "source": [
    "def retrieve_documents(query, data, vectorizer, tfidf_matrix):\n",
    "    query_vec = vectorizer.transform([query])\n",
    "    similarities = cosine_similarity(query_vec, tfidf_matrix).flatten()\n",
    "    top_n_indices = np.argsort(-similarities)[:5]  # Retrieves the top 5 documents\n",
    "    return [data[i] for i in top_n_indices if similarities[i] > 0]\n"
   ]
  },
  {
   "cell_type": "markdown",
   "metadata": {},
   "source": [
    "## Step 3: Generating Responses with Chain of Thought"
   ]
  },
  {
   "cell_type": "code",
   "execution_count": 12,
   "metadata": {},
   "outputs": [],
   "source": [
    "def generate_response_with_chain_of_thought(query, documents):\n",
    "    client = Groq(api_key=os.environ.get(\"GROQ_API_KEY\"))\n",
    "    # Construct a reasoning path from the documents\n",
    "    reasoning = \"Based on the provided code and context, \"\n",
    "    context = \" \".join([f\"{doc['question']} Hence, {doc['answer']}.\" for doc in documents])\n",
    "    reasoning += context\n",
    "    combined_input = f\"Question: {query} {reasoning} Therefore, \"\n",
    "    response = client.chat.completions.create(\n",
    "        messages=[\n",
    "            {\n",
    "                \"role\": \"user\",\n",
    "                \"content\": combined_input,\n",
    "            }\n",
    "        ],\n",
    "        model=\"llama-3.3-70b-versatile\",\n",
    "    )\n",
    "    return response.choices[0].message.content\n"
   ]
  },
  {
   "cell_type": "markdown",
   "metadata": {},
   "source": [
    "## Main Execution"
   ]
  },
  {
   "cell_type": "code",
   "execution_count": 13,
   "metadata": {},
   "outputs": [
    {
     "name": "stdout",
     "output_type": "stream",
     "text": [
      "The code appears to be creating a test suite from a dictionary. \n",
      "\n",
      "Here's a breakdown of what the code does:\n",
      "\n",
      "1. It defines a function `MakeSuiteFromDict` that takes in a dictionary `d`, a label, and a suite.\n",
      "2. The function iterates over the dictionary `d` and creates a test suite with the given label.\n",
      "3. The function normalizes the test suite and returns it.\n",
      "\n",
      "Given the context, it seems that the code is used to create a test suite for Flask tests. \n",
      "\n",
      "A test suite typically has a collection of test cases, so in this case, the test suite would have all the Flask tests.\n",
      "\n",
      "Therefore, the code makes a test suite that contains all the Flask tests. \n",
      "\n",
      "Here is a simple representation of what the code might look like:\n",
      "```\n",
      "def MakeSuiteFromDict(d, label=None, suite=None):\n",
      "    if suite is None:\n",
      "        suite = unittest.TestSuite()\n",
      "    for key, value in d.items():\n",
      "        if isinstance(value, unittest.TestCase):\n",
      "            suite.addTest(value)\n",
      "        elif isinstance(value, dict):\n",
      "            suite.addTest(MakeSuiteFromDict(value, label=key))\n",
      "    return suite\n",
      "```\n",
      "This code defines a recursive function that creates a test suite from a dictionary. The dictionary can contain test cases or other dictionaries, which are also recursively added to the test suite.\n"
     ]
    }
   ],
   "source": [
    "if __name__ == \"__main__\":\n",
    "    json_path = 'Dataset/output_data.json'\n",
    "    data = load_json_data(json_path)\n",
    "    vectorizer, tfidf_matrix = create_tfidf_vectors(data)\n",
    "    \n",
    "    user_query = \"\"\"def Make Suite From Dict d label None suite Suite label label suite Set Dict d suite Normalize return suite\n",
    " What does the code make?\"\"\"\n",
    "    relevant_documents = retrieve_documents(user_query, data, vectorizer, tfidf_matrix)\n",
    "    \n",
    "    if not relevant_documents:\n",
    "        print(\"No relevant documents found.\")\n",
    "    else:\n",
    "        response = generate_response_with_chain_of_thought(user_query, relevant_documents)\n",
    "        print(response)\n"
   ]
  },
  {
   "cell_type": "code",
   "execution_count": null,
   "metadata": {},
   "outputs": [],
   "source": []
  }
 ],
 "metadata": {
  "kernelspec": {
   "display_name": "Python 3",
   "language": "python",
   "name": "python3"
  },
  "language_info": {
   "codemirror_mode": {
    "name": "ipython",
    "version": 3
   },
   "file_extension": ".py",
   "mimetype": "text/x-python",
   "name": "python",
   "nbconvert_exporter": "python",
   "pygments_lexer": "ipython3",
   "version": "3.12.5"
  }
 },
 "nbformat": 4,
 "nbformat_minor": 2
}
