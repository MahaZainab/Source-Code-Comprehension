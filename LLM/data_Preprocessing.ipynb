{
 "cells": [
  {
   "cell_type": "code",
   "execution_count": null,
   "metadata": {},
   "outputs": [],
   "source": [
    "import pandas as pd\n",
    "\n",
    "def load_data(code_path, question_path, answer_path):\n",
    "    # Read the files\n",
    "    with open(code_path, 'r', encoding='utf-8') as file:\n",
    "        codes = file.readlines()\n",
    "    \n",
    "    with open(question_path, 'r', encoding='utf-8') as file:\n",
    "        questions = file.readlines()\n",
    "    \n",
    "    with open(answer_path, 'r', encoding='utf-8') as file:\n",
    "        answers = file.readlines()\n",
    "    \n",
    "    # Strip newline characters and any trailing whitespace\n",
    "    codes = [code.strip() for code in codes]\n",
    "    questions = [question.strip() for question in questions]\n",
    "    answers = [answer.strip() for answer in answers]\n",
    "    \n",
    "    # Create a DataFrame\n",
    "    data = pd.DataFrame({\n",
    "        'code': codes,\n",
    "        'question': questions,\n",
    "        'answer': answers\n",
    "    })\n",
    "    \n",
    "    return data\n",
    "\n",
    "# Define the paths to your files\n",
    "code_path = '/path/to/train.code'\n",
    "question_path = '/path/to/train.question'\n",
    "answer_path = '/path/to/train.answer'\n",
    "\n",
    "# Load the data\n",
    "data = load_data(code_path, question_path, answer_path)\n",
    "print(data.head())  # Print the first few rows to check\n"
   ]
  },
  {
   "cell_type": "code",
   "execution_count": null,
   "metadata": {},
   "outputs": [],
   "source": []
  }
 ],
 "metadata": {
  "kernelspec": {
   "display_name": "Python 3",
   "language": "python",
   "name": "python3"
  },
  "language_info": {
   "codemirror_mode": {
    "name": "ipython",
    "version": 3
   },
   "file_extension": ".py",
   "mimetype": "text/x-python",
   "name": "python",
   "nbconvert_exporter": "python",
   "pygments_lexer": "ipython3",
   "version": "3.12.5"
  }
 },
 "nbformat": 4,
 "nbformat_minor": 2
}
