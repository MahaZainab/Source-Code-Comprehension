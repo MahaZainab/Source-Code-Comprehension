{
 "cells": [
  {
   "cell_type": "code",
   "execution_count": 1,
   "metadata": {},
   "outputs": [
    {
     "name": "stdout",
     "output_type": "stream",
     "text": [
      "Defaulting to user installation because normal site-packages is not writeable\n",
      "Requirement already satisfied: groq in c:\\users\\pc\\appdata\\roaming\\python\\python312\\site-packages (0.13.1)\n",
      "Requirement already satisfied: anyio<5,>=3.5.0 in c:\\users\\pc\\appdata\\roaming\\python\\python312\\site-packages (from groq) (4.7.0)\n",
      "Requirement already satisfied: distro<2,>=1.7.0 in c:\\users\\pc\\appdata\\roaming\\python\\python312\\site-packages (from groq) (1.9.0)\n",
      "Requirement already satisfied: httpx<1,>=0.23.0 in c:\\users\\pc\\appdata\\roaming\\python\\python312\\site-packages (from groq) (0.28.1)\n",
      "Requirement already satisfied: pydantic<3,>=1.9.0 in c:\\users\\pc\\appdata\\roaming\\python\\python312\\site-packages (from groq) (2.8.2)\n",
      "Requirement already satisfied: sniffio in c:\\users\\pc\\appdata\\roaming\\python\\python312\\site-packages (from groq) (1.3.1)\n",
      "Requirement already satisfied: typing-extensions<5,>=4.10 in c:\\users\\pc\\appdata\\roaming\\python\\python312\\site-packages (from groq) (4.12.2)\n",
      "Requirement already satisfied: idna>=2.8 in c:\\users\\pc\\appdata\\roaming\\python\\python312\\site-packages (from anyio<5,>=3.5.0->groq) (3.7)\n",
      "Requirement already satisfied: certifi in c:\\users\\pc\\appdata\\roaming\\python\\python312\\site-packages (from httpx<1,>=0.23.0->groq) (2024.7.4)\n",
      "Requirement already satisfied: httpcore==1.* in c:\\users\\pc\\appdata\\roaming\\python\\python312\\site-packages (from httpx<1,>=0.23.0->groq) (1.0.7)\n",
      "Requirement already satisfied: h11<0.15,>=0.13 in c:\\users\\pc\\appdata\\roaming\\python\\python312\\site-packages (from httpcore==1.*->httpx<1,>=0.23.0->groq) (0.14.0)\n",
      "Requirement already satisfied: annotated-types>=0.4.0 in c:\\users\\pc\\appdata\\roaming\\python\\python312\\site-packages (from pydantic<3,>=1.9.0->groq) (0.7.0)\n",
      "Requirement already satisfied: pydantic-core==2.20.1 in c:\\users\\pc\\appdata\\roaming\\python\\python312\\site-packages (from pydantic<3,>=1.9.0->groq) (2.20.1)\n"
     ]
    },
    {
     "name": "stderr",
     "output_type": "stream",
     "text": [
      "\n",
      "[notice] A new release of pip is available: 24.3.1 -> 25.0.1\n",
      "[notice] To update, run: python.exe -m pip install --upgrade pip\n"
     ]
    }
   ],
   "source": [
    "!pip install groq"
   ]
  },
  {
   "cell_type": "code",
   "execution_count": 7,
   "metadata": {},
   "outputs": [
    {
     "name": "stdout",
     "output_type": "stream",
     "text": [
      "Defaulting to user installation because normal site-packages is not writeable\n",
      "Collecting dotenv\n",
      "  Downloading dotenv-0.9.9-py2.py3-none-any.whl.metadata (279 bytes)\n",
      "Collecting python-dotenv (from dotenv)\n",
      "  Downloading python_dotenv-1.0.1-py3-none-any.whl.metadata (23 kB)\n",
      "Downloading dotenv-0.9.9-py2.py3-none-any.whl (1.9 kB)\n",
      "Downloading python_dotenv-1.0.1-py3-none-any.whl (19 kB)\n",
      "Installing collected packages: python-dotenv, dotenv\n",
      "Successfully installed dotenv-0.9.9 python-dotenv-1.0.1\n"
     ]
    },
    {
     "name": "stderr",
     "output_type": "stream",
     "text": [
      "\n",
      "[notice] A new release of pip is available: 24.3.1 -> 25.0.1\n",
      "[notice] To update, run: python.exe -m pip install --upgrade pip\n"
     ]
    }
   ],
   "source": [
    "!pip install dotenv"
   ]
  },
  {
   "cell_type": "code",
   "execution_count": 8,
   "metadata": {},
   "outputs": [
    {
     "data": {
      "text/plain": [
       "True"
      ]
     },
     "execution_count": 8,
     "metadata": {},
     "output_type": "execute_result"
    }
   ],
   "source": [
    "from dotenv import load_dotenv\n",
    "\n",
    "load_dotenv()"
   ]
  },
  {
   "cell_type": "code",
   "execution_count": null,
   "metadata": {},
   "outputs": [
    {
     "name": "stdout",
     "output_type": "stream",
     "text": [
      "Fast language models are crucial in today's technology landscape, and their importance can be seen in several aspects:\n",
      "\n",
      "1. **Improved User Experience**: Fast language models enable applications to respond quickly to user input, providing a seamless and interactive experience. This is particularly important in real-time applications such as chatbots, virtual assistants, and language translation software.\n",
      "2. **Increased Productivity**: Fast language models can process and analyze large amounts of text data quickly, allowing businesses and organizations to automate tasks, extract insights, and make informed decisions faster. This can lead to significant productivity gains and cost savings.\n",
      "3. **Enhanced Customer Service**: Fast language models can be used to power chatbots and virtual assistants that provide 24/7 customer support, helping customers to quickly resolve issues and get answers to their queries.\n",
      "4. **Competitive Advantage**: Companies that adopt fast language models can gain a competitive advantage over their peers, as they can respond faster to market trends, customer needs, and emerging opportunities.\n",
      "5. **Better Decision-Making**: Fast language models can analyze large amounts of text data, including news articles, social media posts, and customer feedback, to provide insights and inform business decisions.\n",
      "6. **Improved Accessibility**: Fast language models can help break language barriers, enabling people who speak different languages to communicate more effectively. This can be particularly important in international business, education, and healthcare.\n",
      "7. **Real-Time Analytics**: Fast language models can process and analyze text data in real-time, providing instant insights and alerts to businesses and organizations.\n",
      "8. **Automation of Repetitive Tasks**: Fast language models can automate repetitive tasks such as data entry, document summarization, and content generation, freeing up human resources for more strategic and creative tasks.\n",
      "9. **Improved Search and Recommendation**: Fast language models can enhance search and recommendation systems, providing more accurate and relevant results to users.\n",
      "10. **Advancements in AI Research**: Fast language models can accelerate AI research, enabling researchers to develop and test new AI models and applications more quickly.\n",
      "\n",
      "To achieve fast language model performance, several techniques can be employed, including:\n",
      "\n",
      "1. **Model pruning**: Reducing the complexity of the model by removing unnecessary weights and connections.\n",
      "2. **Quantization**: Representing model weights and activations using fewer bits.\n",
      "3. **Knowledge distillation**: Transferring knowledge from a large model to a smaller model.\n",
      "4. **Parallel processing**: Using multiple processing units to perform computations in parallel.\n",
      "5. **Optimized hardware**: Using specialized hardware such as graphics processing units (GPUs) and tensor processing units (TPUs) to accelerate computations.\n",
      "\n",
      "Overall, fast language models have the potential to transform many aspects of our lives, from how we communicate and access information to how we work and make decisions.\n"
     ]
    }
   ],
   "source": [
    "import os\n",
    "\n",
    "from groq import Groq\n",
    "\n",
    "client = Groq(\n",
    "    api_key=os.environ.get(\"GROQ_API_KEY\"),\n",
    ")\n",
    "\n",
    "chat_completion = client.chat.completions.create(\n",
    "    messages=[\n",
    "        {\n",
    "            \"role\": \"user\",\n",
    "            \"content\": \"This is a code understanding assistant.\",\n",
    "        }\n",
    "    ],\n",
    "    model=\"llama-3.3-70b-versatile\",\n",
    ")\n",
    "\n",
    "print(chat_completion.choices[0].message.content)"
   ]
  },
  {
   "cell_type": "code",
   "execution_count": null,
   "metadata": {},
   "outputs": [],
   "source": []
  }
 ],
 "metadata": {
  "kernelspec": {
   "display_name": "Python 3",
   "language": "python",
   "name": "python3"
  },
  "language_info": {
   "codemirror_mode": {
    "name": "ipython",
    "version": 3
   },
   "file_extension": ".py",
   "mimetype": "text/x-python",
   "name": "python",
   "nbconvert_exporter": "python",
   "pygments_lexer": "ipython3",
   "version": "3.12.5"
  }
 },
 "nbformat": 4,
 "nbformat_minor": 2
}
