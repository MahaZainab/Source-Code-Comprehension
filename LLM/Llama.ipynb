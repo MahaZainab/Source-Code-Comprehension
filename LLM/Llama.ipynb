{
 "cells": [
  {
   "cell_type": "markdown",
   "metadata": {},
   "source": [
    "# Llama"
   ]
  },
  {
   "cell_type": "code",
   "execution_count": 1,
   "metadata": {},
   "outputs": [],
   "source": [
    "import os\n",
    "import requests "
   ]
  },
  {
   "cell_type": "code",
   "execution_count": null,
   "metadata": {},
   "outputs": [],
   "source": [
    "\n",
    "def initialize_api(api_key):\n",
    "    api_key=\"\"\n",
    "    return \"https://your_api_endpoint\", api_key"
   ]
  },
  {
   "cell_type": "code",
   "execution_count": 3,
   "metadata": {},
   "outputs": [],
   "source": [
    "def get_response_to_code_question(api_url, api_key, code_snippet, question):\n",
    "    headers = {\"Authorization\": f\"Bearer {api_key}\"}\n",
    "    data = {\n",
    "        \"model\": \"llama-3.3-70b-versatile\", \n",
    "        \"inputs\": {\n",
    "            \"messages\": [\n",
    "                {\"role\": \"system\", \"content\": \"This is a code understanding assistant.\"},\n",
    "                {\"role\": \"user\", \"content\": f\"### Code Snippet\\n```python\\n{code_snippet}\\n```\"},\n",
    "                {\"role\": \"user\", \"content\": question}\n",
    "            ]\n",
    "        }\n",
    "    }\n",
    "    response = requests.post(api_url, headers=headers, json=data)\n",
    "    if response.status_code == 200:\n",
    "        return response.json()['answers'][0] \n",
    "    else:\n",
    "        return \"Failed to get response:\", response.status_code, response.text"
   ]
  },
  {
   "cell_type": "code",
   "execution_count": null,
   "metadata": {},
   "outputs": [],
   "source": [
    "def main():\n",
    "    api_url, api_key = initialize_api(os.getenv(\"YOUR_API_KEY\"))\n",
    "    if not api_key:\n",
    "        raise EnvironmentError(\"API key is not set in environment variables.\")\n",
    "\n",
    "    # Example code snippet\n",
    "    code_snippet = \"\"\"\n",
    "import math\n",
    "\n",
    "def calculate_area(radius):\n",
    "    return math.pi * radius ** 2\n",
    "\"\"\"\n",
    "\n",
    "    print(\"Code snippet loaded. You can now ask questions about it.\")\n",
    "\n",
    "    while True:\n",
    "        question = input(\"Ask a question about the code: \")\n",
    "        if question.lower() in [\"exit\", \"quit\"]:\n",
    "            print(\"Exiting...\")\n",
    "            break\n",
    "        answer = get_response_to_code_question(api_url, api_key, code_snippet, question)\n",
    "        print(\"Answer:\", answer)\n"
   ]
  },
  {
   "cell_type": "code",
   "execution_count": 5,
   "metadata": {},
   "outputs": [
    {
     "ename": "OSError",
     "evalue": "API key is not set in environment variables.",
     "output_type": "error",
     "traceback": [
      "\u001b[1;31m---------------------------------------------------------------------------\u001b[0m",
      "\u001b[1;31mOSError\u001b[0m                                   Traceback (most recent call last)",
      "Cell \u001b[1;32mIn[5], line 2\u001b[0m\n\u001b[0;32m      1\u001b[0m \u001b[38;5;28;01mif\u001b[39;00m \u001b[38;5;18m__name__\u001b[39m \u001b[38;5;241m==\u001b[39m \u001b[38;5;124m\"\u001b[39m\u001b[38;5;124m__main__\u001b[39m\u001b[38;5;124m\"\u001b[39m:\n\u001b[1;32m----> 2\u001b[0m     \u001b[43mmain\u001b[49m\u001b[43m(\u001b[49m\u001b[43m)\u001b[49m\n",
      "Cell \u001b[1;32mIn[4], line 4\u001b[0m, in \u001b[0;36mmain\u001b[1;34m()\u001b[0m\n\u001b[0;32m      2\u001b[0m     api_url, api_key \u001b[38;5;241m=\u001b[39m initialize_api(os\u001b[38;5;241m.\u001b[39mgetenv(\u001b[38;5;124m\"\u001b[39m\u001b[38;5;124mgsk_GrqSjKX7ShR3DYFnllRNWGdyb3FYIqpnrSY0Vu0R9RnaJ98udJgs\u001b[39m\u001b[38;5;124m\"\u001b[39m))\n\u001b[0;32m      3\u001b[0m     \u001b[38;5;28;01mif\u001b[39;00m \u001b[38;5;129;01mnot\u001b[39;00m api_key:\n\u001b[1;32m----> 4\u001b[0m         \u001b[38;5;28;01mraise\u001b[39;00m \u001b[38;5;167;01mEnvironmentError\u001b[39;00m(\u001b[38;5;124m\"\u001b[39m\u001b[38;5;124mAPI key is not set in environment variables.\u001b[39m\u001b[38;5;124m\"\u001b[39m)\n\u001b[0;32m      6\u001b[0m     \u001b[38;5;66;03m# Example code snippet\u001b[39;00m\n\u001b[0;32m      7\u001b[0m     code_snippet \u001b[38;5;241m=\u001b[39m \u001b[38;5;124m\"\"\"\u001b[39m\n\u001b[0;32m      8\u001b[0m \u001b[38;5;124mimport math\u001b[39m\n\u001b[0;32m      9\u001b[0m \n\u001b[0;32m     10\u001b[0m \u001b[38;5;124mdef calculate_area(radius):\u001b[39m\n\u001b[0;32m     11\u001b[0m \u001b[38;5;124m    return math.pi * radius ** 2\u001b[39m\n\u001b[0;32m     12\u001b[0m \u001b[38;5;124m\"\"\"\u001b[39m\n",
      "\u001b[1;31mOSError\u001b[0m: API key is not set in environment variables."
     ]
    }
   ],
   "source": [
    "if __name__ == \"__main__\":\n",
    "    main()"
   ]
  },
  {
   "cell_type": "code",
   "execution_count": null,
   "metadata": {},
   "outputs": [],
   "source": []
  }
 ],
 "metadata": {
  "kernelspec": {
   "display_name": "Python 3",
   "language": "python",
   "name": "python3"
  },
  "language_info": {
   "codemirror_mode": {
    "name": "ipython",
    "version": 3
   },
   "file_extension": ".py",
   "mimetype": "text/x-python",
   "name": "python",
   "nbconvert_exporter": "python",
   "pygments_lexer": "ipython3",
   "version": "3.12.5"
  }
 },
 "nbformat": 4,
 "nbformat_minor": 2
}
