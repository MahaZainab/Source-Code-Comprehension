{
 "cells": [
  {
   "cell_type": "markdown",
   "metadata": {},
   "source": [
    "# Llama"
   ]
  },
  {
   "cell_type": "code",
   "execution_count": 1,
   "metadata": {},
   "outputs": [],
   "source": [
    "import os\n",
    "import requests "
   ]
  },
  {
   "cell_type": "code",
   "execution_count": 6,
   "metadata": {},
   "outputs": [],
   "source": [
    "\n",
    "def initialize_api(api_key):\n",
    "    api_key=\"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\"\n",
    "    return \"https://your_api_endpoint\", api_key"
   ]
  },
  {
   "cell_type": "code",
   "execution_count": 7,
   "metadata": {},
   "outputs": [],
   "source": [
    "def get_response_to_code_question(api_url, api_key, code_snippet, question):\n",
    "    headers = {\"Authorization\": f\"Bearer {api_key}\"}\n",
    "    data = {\n",
    "        \"model\": \"llama-3.3-70b-versatile\", \n",
    "        \"inputs\": {\n",
    "            \"messages\": [\n",
    "                {\"role\": \"system\", \"content\": \"This is a code understanding assistant.\"},\n",
    "                {\"role\": \"user\", \"content\": f\"### Code Snippet\\n```python\\n{code_snippet}\\n```\"},\n",
    "                {\"role\": \"user\", \"content\": question}\n",
    "            ]\n",
    "        }\n",
    "    }\n",
    "    response = requests.post(api_url, headers=headers, json=data)\n",
    "    if response.status_code == 200:\n",
    "        return response.json()['answers'][0] \n",
    "    else:\n",
    "        return \"Failed to get response:\", response.status_code, response.text"
   ]
  },
  {
   "cell_type": "code",
   "execution_count": 8,
   "metadata": {},
   "outputs": [],
   "source": [
    "def main():\n",
    "    api_url, api_key = initialize_api(os.getenv(\"YOUR_API_KEY\"))\n",
    "    if not api_key:\n",
    "        raise EnvironmentError(\"API key is not set in environment variables.\")\n",
    "\n",
    "    # Example code snippet\n",
    "    code_snippet = \"\"\"\n",
    "import math\n",
    "\n",
    "def calculate_area(radius):\n",
    "    return math.pi * radius ** 2\n",
    "\"\"\"\n",
    "\n",
    "    print(\"Code snippet loaded. You can now ask questions about it.\")\n",
    "\n",
    "    while True:\n",
    "        question = input(\"Ask a question about the code: \")\n",
    "        if question.lower() in [\"exit\", \"quit\"]:\n",
    "            print(\"Exiting...\")\n",
    "            break\n",
    "        answer = get_response_to_code_question(api_url, api_key, code_snippet, question)\n",
    "        print(\"Answer:\", answer)\n"
   ]
  },
  {
   "cell_type": "code",
   "execution_count": null,
   "metadata": {},
   "outputs": [
    {
     "name": "stdout",
     "output_type": "stream",
     "text": [
      "Code snippet loaded. You can now ask questions about it.\n"
     ]
    }
   ],
   "source": [
    "if __name__ == \"__main__\":\n",
    "    main()"
   ]
  },
  {
   "cell_type": "code",
   "execution_count": null,
   "metadata": {},
   "outputs": [],
   "source": []
  }
 ],
 "metadata": {
  "kernelspec": {
   "display_name": "Python 3",
   "language": "python",
   "name": "python3"
  },
  "language_info": {
   "codemirror_mode": {
    "name": "ipython",
    "version": 3
   },
   "file_extension": ".py",
   "mimetype": "text/x-python",
   "name": "python",
   "nbconvert_exporter": "python",
   "pygments_lexer": "ipython3",
   "version": "3.12.5"
  }
 },
 "nbformat": 4,
 "nbformat_minor": 2
}
