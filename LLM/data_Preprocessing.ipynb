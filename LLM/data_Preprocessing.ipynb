{
 "cells": [
  {
   "cell_type": "code",
   "execution_count": 2,
   "metadata": {},
   "outputs": [
    {
     "name": "stdout",
     "output_type": "stream",
     "text": [
      "                                                code  \\\n",
      "0  def Make Suite From Dict d label None suite Su...   \n",
      "1  def Make Suite From Dict d label None suite Su...   \n",
      "2  def receive message topic name subscription na...   \n",
      "3  def receive message topic name subscription na...   \n",
      "4  def Create Shared Budget client budget service...   \n",
      "\n",
      "                                            question                  answer  \n",
      "0                          What does the code make ?                 a suite  \n",
      "1                       Does the code make a suite ?                     Yes  \n",
      "2  Does the code receive a message from a pull su...                     Yes  \n",
      "3  What does the code receive from a pull subscri...               a message  \n",
      "4             What be an explicit budget used only ?  to create the campaign  \n"
     ]
    }
   ],
   "source": [
    "import pandas as pd\n",
    "\n",
    "def load_data(code_path, question_path, answer_path):\n",
    "    # Read the files\n",
    "    with open(code_path, 'r', encoding='utf-8') as file:\n",
    "        codes = file.readlines()\n",
    "    \n",
    "    with open(question_path, 'r', encoding='utf-8') as file:\n",
    "        questions = file.readlines()\n",
    "    \n",
    "    with open(answer_path, 'r', encoding='utf-8') as file:\n",
    "        answers = file.readlines()\n",
    "    \n",
    "    # Strip newline characters and any trailing whitespace\n",
    "    codes = [code.strip() for code in codes]\n",
    "    questions = [question.strip() for question in questions]\n",
    "    answers = [answer.strip() for answer in answers]\n",
    "    \n",
    "    # Create a DataFrame\n",
    "    data = pd.DataFrame({\n",
    "        'code': codes,\n",
    "        'question': questions,\n",
    "        'answer': answers\n",
    "    })\n",
    "    \n",
    "    return data\n",
    "\n",
    "# Define the paths to your files\n",
    "code_path = 'Dataset/train.code'\n",
    "question_path = 'Dataset/train.question'\n",
    "answer_path = 'Dataset/train.answer'\n",
    "\n",
    "# Load the data\n",
    "data = load_data(code_path, question_path, answer_path)\n",
    "print(data.head())  # Print the first few rows to check\n"
   ]
  },
  {
   "cell_type": "code",
   "execution_count": 3,
   "metadata": {},
   "outputs": [],
   "source": [
    "assert len(data['code']) == len(data['question']) == len(data['answer']), \"Mismatch in data lengths\"\n"
   ]
  },
  {
   "cell_type": "code",
   "execution_count": null,
   "metadata": {},
   "outputs": [],
   "source": [
    "import json\n",
    "\n",
    "def load_data_to_json(code_path, question_path, answer_path, json_path):\n",
    "    # Read the files\n",
    "    with open(code_path, 'r', encoding='utf-8') as file:\n",
    "        codes = file.readlines()\n",
    "    \n",
    "    with open(question_path, 'r', encoding='utf-8') as file:\n",
    "        questions = file.readlines()\n",
    "    \n",
    "    with open(answer_path, 'r', encoding='utf-8') as file:\n",
    "        answers = file.readlines()\n",
    "    \n",
    "    # Strip newline characters and any trailing whitespace\n",
    "    codes = [code.strip() for code in codes]\n",
    "    questions = [question.strip() for question in questions]\n",
    "    answers = [answer.strip() for answer in answers]\n",
    "    \n",
    "    # Create a list of dictionaries\n",
    "    data = [{'code': code, 'question': question, 'answer': answer} for code, question, answer in zip(codes, questions, answers)]\n",
    "    \n",
    "    # Write data to a JSON file\n",
    "    with open(json_path, 'w', encoding='utf-8') as f:\n",
    "        json.dump(data, f, indent=4)\n",
    "\n",
    "# Define the paths to your files\n",
    "code_path = 'Dataset/train.code'\n",
    "question_path = 'Dataset/train.question'\n",
    "answer_path = '/path/to/train.answer'\n",
    "json_path = '/path/to/output_data.json'\n",
    "\n",
    "# Load the data and convert to JSON\n",
    "load_data_to_json(code_path, question_path, answer_path, json_path)\n"
   ]
  }
 ],
 "metadata": {
  "kernelspec": {
   "display_name": "Python 3",
   "language": "python",
   "name": "python3"
  },
  "language_info": {
   "codemirror_mode": {
    "name": "ipython",
    "version": 3
   },
   "file_extension": ".py",
   "mimetype": "text/x-python",
   "name": "python",
   "nbconvert_exporter": "python",
   "pygments_lexer": "ipython3",
   "version": "3.12.5"
  }
 },
 "nbformat": 4,
 "nbformat_minor": 2
}
